{
 "cells": [
  {
   "cell_type": "markdown",
   "metadata": {},
   "source": [
    "# PSSTCase"
   ]
  },
  {
   "cell_type": "markdown",
   "metadata": {},
   "source": [
    "## Read from MATPOWER files"
   ]
  },
  {
   "cell_type": "code",
   "execution_count": 1,
   "metadata": {
    "collapsed": true
   },
   "outputs": [],
   "source": [
    "from psst.case import read_matpower\n",
    "from psst.utils import has_number\n",
    "import os"
   ]
  },
  {
   "cell_type": "code",
   "execution_count": 2,
   "metadata": {
    "collapsed": false
   },
   "outputs": [
    {
     "data": {
      "text/plain": [
       "[<psst.case.PSSTCase(name=case118, Generators=54, Buses=118, Branches=186)>,\n",
       " <psst.case.PSSTCase(name=case1354pegase, Generators=260, Buses=1354, Branches=1991)>,\n",
       " <psst.case.PSSTCase(name=case13659pegase, Generators=4092, Buses=13659, Branches=20467)>,\n",
       " <psst.case.PSSTCase(name=case14, Generators=5, Buses=14, Branches=20)>,\n",
       " <psst.case.PSSTCase(name=case145, Generators=50, Buses=145, Branches=453)>,\n",
       " <psst.case.PSSTCase(name=case1888rte, Generators=297, Buses=1888, Branches=2531)>,\n",
       " <psst.case.PSSTCase(name=case1951rte, Generators=391, Buses=1951, Branches=2596)>,\n",
       " <psst.case.PSSTCase(name=case2383wp, Generators=327, Buses=2383, Branches=2896)>,\n",
       " <psst.case.PSSTCase(name=case24_ieee_rts, Generators=33, Buses=24, Branches=38)>,\n",
       " <psst.case.PSSTCase(name=case2736sp, Generators=420, Buses=2736, Branches=3504)>,\n",
       " <psst.case.PSSTCase(name=case2737sop, Generators=399, Buses=2737, Branches=3506)>,\n",
       " <psst.case.PSSTCase(name=case2746wop, Generators=514, Buses=2746, Branches=3514)>,\n",
       " <psst.case.PSSTCase(name=case2746_wp, Generators=520, Buses=2746, Branches=3514)>,\n",
       " <psst.case.PSSTCase(name=case2848rte, Generators=547, Buses=2848, Branches=3776)>,\n",
       " <psst.case.PSSTCase(name=case2868rte, Generators=599, Buses=2868, Branches=3808)>,\n",
       " <psst.case.PSSTCase(name=case2869pegase, Generators=510, Buses=2869, Branches=4582)>,\n",
       " <psst.case.PSSTCase(name=case30, Generators=6, Buses=30, Branches=41)>,\n",
       " <psst.case.PSSTCase(name=case300, Generators=69, Buses=300, Branches=411)>,\n",
       " <psst.case.PSSTCase(name=case3012wp, Generators=502, Buses=3012, Branches=3572)>,\n",
       " <psst.case.PSSTCase(name=case30pwl, Generators=6, Buses=30, Branches=41)>,\n",
       " <psst.case.PSSTCase(name=case30Q, Generators=6, Buses=30, Branches=41)>,\n",
       " <psst.case.PSSTCase(name=case3120sp, Generators=505, Buses=3120, Branches=3693)>,\n",
       " <psst.case.PSSTCase(name=case3375wp, Generators=596, Buses=3374, Branches=4161)>,\n",
       " <psst.case.PSSTCase(name=case39, Generators=10, Buses=39, Branches=46)>,\n",
       " <psst.case.PSSTCase(name=case4gs, Generators=2, Buses=4, Branches=4)>,\n",
       " <psst.case.PSSTCase(name=case5, Generators=5, Buses=5, Branches=6)>,\n",
       " <psst.case.PSSTCase(name=case57, Generators=7, Buses=57, Branches=80)>,\n",
       " <psst.case.PSSTCase(name=case6468rte, Generators=1295, Buses=6468, Branches=9000)>,\n",
       " <psst.case.PSSTCase(name=case6470rte, Generators=1330, Buses=6470, Branches=9005)>,\n",
       " <psst.case.PSSTCase(name=case6495rte, Generators=1372, Buses=6495, Branches=9019)>,\n",
       " <psst.case.PSSTCase(name=case6515rte, Generators=1388, Buses=6515, Branches=9037)>,\n",
       " <psst.case.PSSTCase(name=case6ww, Generators=3, Buses=6, Branches=11)>,\n",
       " <psst.case.PSSTCase(name=case89pegase, Generators=12, Buses=89, Branches=210)>,\n",
       " <psst.case.PSSTCase(name=case9, Generators=3, Buses=9, Branches=9)>,\n",
       " <psst.case.PSSTCase(name=case9241pegase, Generators=1445, Buses=9241, Branches=16049)>,\n",
       " <psst.case.PSSTCase(name=case9Q, Generators=3, Buses=9, Branches=9)>,\n",
       " <psst.case.PSSTCase(name=case9target, Generators=3, Buses=9, Branches=9)>,\n",
       " <psst.case.PSSTCase(name=case_ieee30, Generators=6, Buses=30, Branches=41)>]"
      ]
     },
     "execution_count": 2,
     "metadata": {},
     "output_type": "execute_result"
    }
   ],
   "source": [
    "matpower_folder = os.path.abspath('~/path/to/matpower-folder/')\n",
    "cases = list()\n",
    "for f in os.listdir(matpower_folder):\n",
    "    if f.startswith('case') and has_number(f):\n",
    "        cases.append(read_matpower(os.path.join(matpower_folder, f)))\n",
    "cases"
   ]
  },
  {
   "cell_type": "markdown",
   "metadata": {},
   "source": [
    "## Pandas DataFrames for storing values"
   ]
  },
  {
   "cell_type": "code",
   "execution_count": 3,
   "metadata": {
    "collapsed": true
   },
   "outputs": [],
   "source": [
    "case = cases[0]"
   ]
  },
  {
   "cell_type": "code",
   "execution_count": 4,
   "metadata": {
    "collapsed": false
   },
   "outputs": [
    {
     "data": {
      "text/plain": [
       "'case118'"
      ]
     },
     "execution_count": 4,
     "metadata": {},
     "output_type": "execute_result"
    }
   ],
   "source": [
    "case.name"
   ]
  },
  {
   "cell_type": "code",
   "execution_count": 5,
   "metadata": {
    "collapsed": false
   },
   "outputs": [
    {
     "data": {
      "text/plain": [
       "100.0"
      ]
     },
     "execution_count": 5,
     "metadata": {},
     "output_type": "execute_result"
    }
   ],
   "source": [
    "case.baseMVA"
   ]
  },
  {
   "cell_type": "code",
   "execution_count": 6,
   "metadata": {
    "collapsed": false
   },
   "outputs": [
    {
     "data": {
      "text/plain": [
       "'2'"
      ]
     },
     "execution_count": 6,
     "metadata": {},
     "output_type": "execute_result"
    }
   ],
   "source": [
    "case.version"
   ]
  },
  {
   "cell_type": "code",
   "execution_count": 7,
   "metadata": {
    "collapsed": false
   },
   "outputs": [
    {
     "data": {
      "text/html": [
       "<div>\n",
       "<table border=\"1\" class=\"dataframe\">\n",
       "  <thead>\n",
       "    <tr style=\"text-align: right;\">\n",
       "      <th></th>\n",
       "      <th>F_BUS</th>\n",
       "      <th>T_BUS</th>\n",
       "      <th>BR_R</th>\n",
       "      <th>BR_X</th>\n",
       "      <th>BR_B</th>\n",
       "      <th>RATE_A</th>\n",
       "      <th>RATE_B</th>\n",
       "      <th>RATE_C</th>\n",
       "      <th>TAP</th>\n",
       "      <th>SHIFT</th>\n",
       "      <th>BR_STATUS</th>\n",
       "      <th>ANGMIN</th>\n",
       "      <th>ANGMAX</th>\n",
       "    </tr>\n",
       "  </thead>\n",
       "  <tbody>\n",
       "    <tr>\n",
       "      <th>1</th>\n",
       "      <td>Riversde  V2</td>\n",
       "      <td>Pokagon   V2</td>\n",
       "      <td>0.03030</td>\n",
       "      <td>0.09990</td>\n",
       "      <td>0.02540</td>\n",
       "      <td>0</td>\n",
       "      <td>0</td>\n",
       "      <td>0</td>\n",
       "      <td>0.0</td>\n",
       "      <td>0</td>\n",
       "      <td>1</td>\n",
       "      <td>-360</td>\n",
       "      <td>360</td>\n",
       "    </tr>\n",
       "    <tr>\n",
       "      <th>2</th>\n",
       "      <td>Riversde  V2</td>\n",
       "      <td>HickryCk  V2</td>\n",
       "      <td>0.01290</td>\n",
       "      <td>0.04240</td>\n",
       "      <td>0.01082</td>\n",
       "      <td>0</td>\n",
       "      <td>0</td>\n",
       "      <td>0</td>\n",
       "      <td>0.0</td>\n",
       "      <td>0</td>\n",
       "      <td>1</td>\n",
       "      <td>-360</td>\n",
       "      <td>360</td>\n",
       "    </tr>\n",
       "    <tr>\n",
       "      <th>3</th>\n",
       "      <td>NwCarlsl  V2</td>\n",
       "      <td>Olive     V2</td>\n",
       "      <td>0.00176</td>\n",
       "      <td>0.00798</td>\n",
       "      <td>0.00210</td>\n",
       "      <td>0</td>\n",
       "      <td>0</td>\n",
       "      <td>0</td>\n",
       "      <td>0.0</td>\n",
       "      <td>0</td>\n",
       "      <td>1</td>\n",
       "      <td>-360</td>\n",
       "      <td>360</td>\n",
       "    </tr>\n",
       "    <tr>\n",
       "      <th>4</th>\n",
       "      <td>HickryCk  V2</td>\n",
       "      <td>Olive     V2</td>\n",
       "      <td>0.02410</td>\n",
       "      <td>0.10800</td>\n",
       "      <td>0.02840</td>\n",
       "      <td>0</td>\n",
       "      <td>0</td>\n",
       "      <td>0</td>\n",
       "      <td>0.0</td>\n",
       "      <td>0</td>\n",
       "      <td>1</td>\n",
       "      <td>-360</td>\n",
       "      <td>360</td>\n",
       "    </tr>\n",
       "    <tr>\n",
       "      <th>5</th>\n",
       "      <td>Olive     V2</td>\n",
       "      <td>Kankakee  V2</td>\n",
       "      <td>0.01190</td>\n",
       "      <td>0.05400</td>\n",
       "      <td>0.01426</td>\n",
       "      <td>0</td>\n",
       "      <td>0</td>\n",
       "      <td>0</td>\n",
       "      <td>0.0</td>\n",
       "      <td>0</td>\n",
       "      <td>1</td>\n",
       "      <td>-360</td>\n",
       "      <td>360</td>\n",
       "    </tr>\n",
       "  </tbody>\n",
       "</table>\n",
       "</div>"
      ],
      "text/plain": [
       "          F_BUS         T_BUS     BR_R     BR_X     BR_B  RATE_A  RATE_B  \\\n",
       "1  Riversde  V2  Pokagon   V2  0.03030  0.09990  0.02540       0       0   \n",
       "2  Riversde  V2  HickryCk  V2  0.01290  0.04240  0.01082       0       0   \n",
       "3  NwCarlsl  V2  Olive     V2  0.00176  0.00798  0.00210       0       0   \n",
       "4  HickryCk  V2  Olive     V2  0.02410  0.10800  0.02840       0       0   \n",
       "5  Olive     V2  Kankakee  V2  0.01190  0.05400  0.01426       0       0   \n",
       "\n",
       "   RATE_C  TAP  SHIFT  BR_STATUS  ANGMIN  ANGMAX  \n",
       "1       0  0.0      0          1    -360     360  \n",
       "2       0  0.0      0          1    -360     360  \n",
       "3       0  0.0      0          1    -360     360  \n",
       "4       0  0.0      0          1    -360     360  \n",
       "5       0  0.0      0          1    -360     360  "
      ]
     },
     "execution_count": 7,
     "metadata": {},
     "output_type": "execute_result"
    }
   ],
   "source": [
    "case.branch.head()"
   ]
  },
  {
   "cell_type": "code",
   "execution_count": 8,
   "metadata": {
    "collapsed": false
   },
   "outputs": [
    {
     "data": {
      "text/html": [
       "<div>\n",
       "<table border=\"1\" class=\"dataframe\">\n",
       "  <thead>\n",
       "    <tr style=\"text-align: right;\">\n",
       "      <th></th>\n",
       "      <th>BUS_I</th>\n",
       "      <th>TYPE</th>\n",
       "      <th>PD</th>\n",
       "      <th>QD</th>\n",
       "      <th>GS</th>\n",
       "      <th>BS</th>\n",
       "      <th>AREA</th>\n",
       "      <th>VM</th>\n",
       "      <th>VA</th>\n",
       "      <th>BASEKV</th>\n",
       "      <th>ZONE</th>\n",
       "      <th>VMAX</th>\n",
       "      <th>VMIN</th>\n",
       "    </tr>\n",
       "    <tr>\n",
       "      <th>bus_name</th>\n",
       "      <th></th>\n",
       "      <th></th>\n",
       "      <th></th>\n",
       "      <th></th>\n",
       "      <th></th>\n",
       "      <th></th>\n",
       "      <th></th>\n",
       "      <th></th>\n",
       "      <th></th>\n",
       "      <th></th>\n",
       "      <th></th>\n",
       "      <th></th>\n",
       "      <th></th>\n",
       "    </tr>\n",
       "  </thead>\n",
       "  <tbody>\n",
       "    <tr>\n",
       "      <th>Riversde  V2</th>\n",
       "      <td>1</td>\n",
       "      <td>2</td>\n",
       "      <td>51</td>\n",
       "      <td>27</td>\n",
       "      <td>0</td>\n",
       "      <td>0</td>\n",
       "      <td>1</td>\n",
       "      <td>0.955</td>\n",
       "      <td>10.67</td>\n",
       "      <td>138</td>\n",
       "      <td>1</td>\n",
       "      <td>1.06</td>\n",
       "      <td>0.94</td>\n",
       "    </tr>\n",
       "    <tr>\n",
       "      <th>Pokagon   V2</th>\n",
       "      <td>2</td>\n",
       "      <td>1</td>\n",
       "      <td>20</td>\n",
       "      <td>9</td>\n",
       "      <td>0</td>\n",
       "      <td>0</td>\n",
       "      <td>1</td>\n",
       "      <td>0.971</td>\n",
       "      <td>11.22</td>\n",
       "      <td>138</td>\n",
       "      <td>1</td>\n",
       "      <td>1.06</td>\n",
       "      <td>0.94</td>\n",
       "    </tr>\n",
       "    <tr>\n",
       "      <th>HickryCk  V2</th>\n",
       "      <td>3</td>\n",
       "      <td>1</td>\n",
       "      <td>39</td>\n",
       "      <td>10</td>\n",
       "      <td>0</td>\n",
       "      <td>0</td>\n",
       "      <td>1</td>\n",
       "      <td>0.968</td>\n",
       "      <td>11.56</td>\n",
       "      <td>138</td>\n",
       "      <td>1</td>\n",
       "      <td>1.06</td>\n",
       "      <td>0.94</td>\n",
       "    </tr>\n",
       "    <tr>\n",
       "      <th>NwCarlsl  V2</th>\n",
       "      <td>4</td>\n",
       "      <td>2</td>\n",
       "      <td>39</td>\n",
       "      <td>12</td>\n",
       "      <td>0</td>\n",
       "      <td>0</td>\n",
       "      <td>1</td>\n",
       "      <td>0.998</td>\n",
       "      <td>15.28</td>\n",
       "      <td>138</td>\n",
       "      <td>1</td>\n",
       "      <td>1.06</td>\n",
       "      <td>0.94</td>\n",
       "    </tr>\n",
       "    <tr>\n",
       "      <th>Olive     V2</th>\n",
       "      <td>5</td>\n",
       "      <td>1</td>\n",
       "      <td>0</td>\n",
       "      <td>0</td>\n",
       "      <td>0</td>\n",
       "      <td>-40</td>\n",
       "      <td>1</td>\n",
       "      <td>1.002</td>\n",
       "      <td>15.73</td>\n",
       "      <td>138</td>\n",
       "      <td>1</td>\n",
       "      <td>1.06</td>\n",
       "      <td>0.94</td>\n",
       "    </tr>\n",
       "  </tbody>\n",
       "</table>\n",
       "</div>"
      ],
      "text/plain": [
       "              BUS_I  TYPE  PD  QD  GS  BS  AREA     VM     VA  BASEKV  ZONE  \\\n",
       "bus_name                                                                      \n",
       "Riversde  V2      1     2  51  27   0   0     1  0.955  10.67     138     1   \n",
       "Pokagon   V2      2     1  20   9   0   0     1  0.971  11.22     138     1   \n",
       "HickryCk  V2      3     1  39  10   0   0     1  0.968  11.56     138     1   \n",
       "NwCarlsl  V2      4     2  39  12   0   0     1  0.998  15.28     138     1   \n",
       "Olive     V2      5     1   0   0   0 -40     1  1.002  15.73     138     1   \n",
       "\n",
       "              VMAX  VMIN  \n",
       "bus_name                  \n",
       "Riversde  V2  1.06  0.94  \n",
       "Pokagon   V2  1.06  0.94  \n",
       "HickryCk  V2  1.06  0.94  \n",
       "NwCarlsl  V2  1.06  0.94  \n",
       "Olive     V2  1.06  0.94  "
      ]
     },
     "execution_count": 8,
     "metadata": {},
     "output_type": "execute_result"
    }
   ],
   "source": [
    "case.bus.head()"
   ]
  },
  {
   "cell_type": "code",
   "execution_count": 9,
   "metadata": {
    "collapsed": false
   },
   "outputs": [
    {
     "data": {
      "text/html": [
       "<div>\n",
       "<table border=\"1\" class=\"dataframe\">\n",
       "  <thead>\n",
       "    <tr style=\"text-align: right;\">\n",
       "      <th></th>\n",
       "      <th>GEN_BUS</th>\n",
       "      <th>PG</th>\n",
       "      <th>QG</th>\n",
       "      <th>QMAX</th>\n",
       "      <th>QMIN</th>\n",
       "      <th>VG</th>\n",
       "      <th>MBASE</th>\n",
       "      <th>GEN_STATUS</th>\n",
       "      <th>PMAX</th>\n",
       "      <th>PMIN</th>\n",
       "      <th>...</th>\n",
       "      <th>PC2</th>\n",
       "      <th>QC1MIN</th>\n",
       "      <th>QC1MAX</th>\n",
       "      <th>QC2MIN</th>\n",
       "      <th>QC2MAX</th>\n",
       "      <th>RAMP_AGC</th>\n",
       "      <th>RAMP_10</th>\n",
       "      <th>RAMP_30</th>\n",
       "      <th>RAMP_Q</th>\n",
       "      <th>APF</th>\n",
       "    </tr>\n",
       "  </thead>\n",
       "  <tbody>\n",
       "    <tr>\n",
       "      <th>1</th>\n",
       "      <td>Riversde  V2</td>\n",
       "      <td>0.0</td>\n",
       "      <td>0</td>\n",
       "      <td>15</td>\n",
       "      <td>-5</td>\n",
       "      <td>0.955</td>\n",
       "      <td>100</td>\n",
       "      <td>1</td>\n",
       "      <td>100.0</td>\n",
       "      <td>0</td>\n",
       "      <td>...</td>\n",
       "      <td>0</td>\n",
       "      <td>0</td>\n",
       "      <td>0</td>\n",
       "      <td>0</td>\n",
       "      <td>0</td>\n",
       "      <td>0</td>\n",
       "      <td>0</td>\n",
       "      <td>0</td>\n",
       "      <td>0</td>\n",
       "      <td>0</td>\n",
       "    </tr>\n",
       "    <tr>\n",
       "      <th>2</th>\n",
       "      <td>NwCarlsl  V2</td>\n",
       "      <td>0.0</td>\n",
       "      <td>0</td>\n",
       "      <td>300</td>\n",
       "      <td>-300</td>\n",
       "      <td>0.998</td>\n",
       "      <td>100</td>\n",
       "      <td>1</td>\n",
       "      <td>100.0</td>\n",
       "      <td>0</td>\n",
       "      <td>...</td>\n",
       "      <td>0</td>\n",
       "      <td>0</td>\n",
       "      <td>0</td>\n",
       "      <td>0</td>\n",
       "      <td>0</td>\n",
       "      <td>0</td>\n",
       "      <td>0</td>\n",
       "      <td>0</td>\n",
       "      <td>0</td>\n",
       "      <td>0</td>\n",
       "    </tr>\n",
       "    <tr>\n",
       "      <th>3</th>\n",
       "      <td>Kankakee  V2</td>\n",
       "      <td>0.0</td>\n",
       "      <td>0</td>\n",
       "      <td>50</td>\n",
       "      <td>-13</td>\n",
       "      <td>0.990</td>\n",
       "      <td>100</td>\n",
       "      <td>1</td>\n",
       "      <td>100.0</td>\n",
       "      <td>0</td>\n",
       "      <td>...</td>\n",
       "      <td>0</td>\n",
       "      <td>0</td>\n",
       "      <td>0</td>\n",
       "      <td>0</td>\n",
       "      <td>0</td>\n",
       "      <td>0</td>\n",
       "      <td>0</td>\n",
       "      <td>0</td>\n",
       "      <td>0</td>\n",
       "      <td>0</td>\n",
       "    </tr>\n",
       "    <tr>\n",
       "      <th>4</th>\n",
       "      <td>Olive     V1</td>\n",
       "      <td>0.0</td>\n",
       "      <td>0</td>\n",
       "      <td>300</td>\n",
       "      <td>-300</td>\n",
       "      <td>1.015</td>\n",
       "      <td>100</td>\n",
       "      <td>1</td>\n",
       "      <td>100.0</td>\n",
       "      <td>0</td>\n",
       "      <td>...</td>\n",
       "      <td>0</td>\n",
       "      <td>0</td>\n",
       "      <td>0</td>\n",
       "      <td>0</td>\n",
       "      <td>0</td>\n",
       "      <td>0</td>\n",
       "      <td>0</td>\n",
       "      <td>0</td>\n",
       "      <td>0</td>\n",
       "      <td>0</td>\n",
       "    </tr>\n",
       "    <tr>\n",
       "      <th>5</th>\n",
       "      <td>Breed     V1</td>\n",
       "      <td>450.0</td>\n",
       "      <td>0</td>\n",
       "      <td>200</td>\n",
       "      <td>-147</td>\n",
       "      <td>1.050</td>\n",
       "      <td>100</td>\n",
       "      <td>1</td>\n",
       "      <td>550.0</td>\n",
       "      <td>0</td>\n",
       "      <td>...</td>\n",
       "      <td>0</td>\n",
       "      <td>0</td>\n",
       "      <td>0</td>\n",
       "      <td>0</td>\n",
       "      <td>0</td>\n",
       "      <td>0</td>\n",
       "      <td>0</td>\n",
       "      <td>0</td>\n",
       "      <td>0</td>\n",
       "      <td>0</td>\n",
       "    </tr>\n",
       "  </tbody>\n",
       "</table>\n",
       "<p>5 rows × 21 columns</p>\n",
       "</div>"
      ],
      "text/plain": [
       "        GEN_BUS     PG  QG  QMAX  QMIN     VG  MBASE  GEN_STATUS   PMAX  PMIN  \\\n",
       "1  Riversde  V2    0.0   0    15    -5  0.955    100           1  100.0     0   \n",
       "2  NwCarlsl  V2    0.0   0   300  -300  0.998    100           1  100.0     0   \n",
       "3  Kankakee  V2    0.0   0    50   -13  0.990    100           1  100.0     0   \n",
       "4  Olive     V1    0.0   0   300  -300  1.015    100           1  100.0     0   \n",
       "5  Breed     V1  450.0   0   200  -147  1.050    100           1  550.0     0   \n",
       "\n",
       "  ...   PC2  QC1MIN  QC1MAX  QC2MIN  QC2MAX  RAMP_AGC  RAMP_10  RAMP_30  \\\n",
       "1 ...     0       0       0       0       0         0        0        0   \n",
       "2 ...     0       0       0       0       0         0        0        0   \n",
       "3 ...     0       0       0       0       0         0        0        0   \n",
       "4 ...     0       0       0       0       0         0        0        0   \n",
       "5 ...     0       0       0       0       0         0        0        0   \n",
       "\n",
       "   RAMP_Q  APF  \n",
       "1       0    0  \n",
       "2       0    0  \n",
       "3       0    0  \n",
       "4       0    0  \n",
       "5       0    0  \n",
       "\n",
       "[5 rows x 21 columns]"
      ]
     },
     "execution_count": 9,
     "metadata": {},
     "output_type": "execute_result"
    }
   ],
   "source": [
    "case.gen.head()"
   ]
  },
  {
   "cell_type": "markdown",
   "metadata": {},
   "source": [
    "## Visualize graphs using NetworkX"
   ]
  },
  {
   "cell_type": "code",
   "execution_count": 10,
   "metadata": {
    "collapsed": true
   },
   "outputs": [],
   "source": [
    "from psst.plot import plot"
   ]
  },
  {
   "cell_type": "code",
   "execution_count": 11,
   "metadata": {
    "collapsed": false,
    "scrolled": false
   },
   "outputs": [
    {
     "data": {
      "image/png": "[encoded data removed]",
      "text/plain": [
       "<matplotlib.figure.Figure at 0x1044d4b90>"
      ]
     },
     "metadata": {},
     "output_type": "display_data"
    }
   ],
   "source": [
    "%matplotlib inline\n",
    "plot(cases[0])"
   ]
  }
 ],
 "metadata": {
  "anaconda-cloud": {},
  "kernelspec": {
   "display_name": "Python [default]",
   "language": "python",
   "name": "python2"
  },
  "language_info": {
   "codemirror_mode": {
    "name": "ipython",
    "version": 2
   },
   "file_extension": ".py",
   "mimetype": "text/x-python",
   "name": "python",
   "nbconvert_exporter": "python",
   "pygments_lexer": "ipython2",
   "version": "2.7.12"
  }
 },
 "nbformat": 4,
 "nbformat_minor": 1
}
